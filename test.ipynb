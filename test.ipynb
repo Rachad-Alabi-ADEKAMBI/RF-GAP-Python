{
 "cells": [
  {
   "cell_type": "code",
   "execution_count": 19,
   "metadata": {},
   "outputs": [],
   "source": [
    "from rfgap_combined import RFGAP\n",
    "from dataset import dataprep\n",
    "\n",
    "import pandas as pd\n",
    "import numpy as np"
   ]
  },
  {
   "cell_type": "code",
   "execution_count": 20,
   "metadata": {},
   "outputs": [],
   "source": [
    "# Read in the data\n",
    "data   = pd.read_csv('data/iris.csv', sep = ',')\n",
    "x, y   = dataprep(data)\n",
    "n, d   = x.shape\n",
    "n_classes = len(y.unique())"
   ]
  },
  {
   "cell_type": "code",
   "execution_count": 21,
   "metadata": {},
   "outputs": [],
   "source": [
    "rfgap = RFGAP(y = y)"
   ]
  },
  {
   "cell_type": "code",
   "execution_count": 22,
   "metadata": {},
   "outputs": [],
   "source": [
    "rfgap.fit(x, y)"
   ]
  },
  {
   "cell_type": "code",
   "execution_count": 23,
   "metadata": {},
   "outputs": [],
   "source": [
    "prox = rfgap.get_proximities()"
   ]
  },
  {
   "cell_type": "code",
   "execution_count": 24,
   "metadata": {},
   "outputs": [
    {
     "data": {
      "text/plain": [
       "matrix([[1.        , 0.8777089 , 0.62000548, ..., 0.        , 0.        ,\n",
       "         0.        ],\n",
       "        [0.8777089 , 1.        , 0.74702079, ..., 0.        , 0.        ,\n",
       "         0.        ],\n",
       "        [0.62000548, 0.74702079, 1.        , ..., 0.        , 0.        ,\n",
       "         0.        ],\n",
       "        ...,\n",
       "        [0.        , 0.        , 0.        , ..., 1.        , 0.47868883,\n",
       "         0.33923291],\n",
       "        [0.        , 0.        , 0.        , ..., 0.47868883, 1.        ,\n",
       "         0.3477541 ],\n",
       "        [0.        , 0.        , 0.        , ..., 0.33923291, 0.3477541 ,\n",
       "         1.        ]])"
      ]
     },
     "execution_count": 24,
     "metadata": {},
     "output_type": "execute_result"
    }
   ],
   "source": [
    "prox.todense()"
   ]
  }
 ],
 "metadata": {
  "kernelspec": {
   "display_name": "rfphate",
   "language": "python",
   "name": "python3"
  },
  "language_info": {
   "codemirror_mode": {
    "name": "ipython",
    "version": 3
   },
   "file_extension": ".py",
   "mimetype": "text/x-python",
   "name": "python",
   "nbconvert_exporter": "python",
   "pygments_lexer": "ipython3",
   "version": "3.9.13"
  },
  "orig_nbformat": 4
 },
 "nbformat": 4,
 "nbformat_minor": 2
}

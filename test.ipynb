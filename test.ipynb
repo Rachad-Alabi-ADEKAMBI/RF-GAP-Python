{
 "cells": [
  {
   "cell_type": "code",
   "execution_count": 7,
   "metadata": {},
   "outputs": [],
   "source": [
    "from rfgap import RFGAP\n",
    "from dataset import dataprep\n",
    "\n",
    "import pandas as pd\n",
    "import numpy as np"
   ]
  },
  {
   "cell_type": "code",
   "execution_count": 8,
   "metadata": {},
   "outputs": [],
   "source": [
    "# Read in the data\n",
    "data   = pd.read_csv('data/iris.csv', sep = ',')\n",
    "x, y   = dataprep(data)\n",
    "n, d   = x.shape\n",
    "n_classes = len(y.unique())"
   ]
  },
  {
   "cell_type": "code",
   "execution_count": 9,
   "metadata": {},
   "outputs": [],
   "source": [
    "rfgap = RFGAP(y = y, non_zero_diagonal= False)"
   ]
  },
  {
   "cell_type": "code",
   "execution_count": 10,
   "metadata": {},
   "outputs": [],
   "source": [
    "rfgap.fit(x, y)"
   ]
  },
  {
   "cell_type": "code",
   "execution_count": 11,
   "metadata": {},
   "outputs": [],
   "source": [
    "prox = rfgap.get_proximities()"
   ]
  },
  {
   "cell_type": "code",
   "execution_count": 12,
   "metadata": {},
   "outputs": [
    {
     "data": {
      "text/plain": [
       "matrix([[0.        , 0.01760353, 0.01912214, ..., 0.        , 0.        ,\n",
       "         0.        ],\n",
       "        [0.01760353, 0.        , 0.01873496, ..., 0.        , 0.        ,\n",
       "         0.        ],\n",
       "        [0.01912214, 0.01873496, 0.        , ..., 0.        , 0.        ,\n",
       "         0.        ],\n",
       "        ...,\n",
       "        [0.        , 0.        , 0.        , ..., 0.        , 0.0238422 ,\n",
       "         0.01889734],\n",
       "        [0.        , 0.        , 0.        , ..., 0.0238422 , 0.        ,\n",
       "         0.01629636],\n",
       "        [0.        , 0.        , 0.        , ..., 0.01889734, 0.01629636,\n",
       "         0.        ]])"
      ]
     },
     "execution_count": 12,
     "metadata": {},
     "output_type": "execute_result"
    }
   ],
   "source": [
    "prox.todense()"
   ]
  }
 ],
 "metadata": {
  "kernelspec": {
   "display_name": "rfphate",
   "language": "python",
   "name": "python3"
  },
  "language_info": {
   "codemirror_mode": {
    "name": "ipython",
    "version": 3
   },
   "file_extension": ".py",
   "mimetype": "text/x-python",
   "name": "python",
   "nbconvert_exporter": "python",
   "pygments_lexer": "ipython3",
   "version": "3.11.2"
  },
  "orig_nbformat": 4
 },
 "nbformat": 4,
 "nbformat_minor": 2
}
